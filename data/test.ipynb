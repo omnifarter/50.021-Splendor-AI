{
 "cells": [
  {
   "cell_type": "code",
   "execution_count": 39,
   "metadata": {},
   "outputs": [],
   "source": [
    "import numpy as np\n",
    "from rules import *\n",
    "\n",
    "card_path = './cards.csv'\n",
    "nobles_path = './nobles.csv'\n",
    "cards = np.genfromtxt(card_path, dtype=np.int32, delimiter=',', skip_header=1)\n",
    "nobles = np.genfromtxt(nobles_path, dtype=np.int32, delimiter=',', skip_header=1)"
   ]
  },
  {
   "cell_type": "code",
   "execution_count": 40,
   "metadata": {},
   "outputs": [
    {
     "name": "stdout",
     "output_type": "stream",
     "text": [
      "[[1 0 1 0 2 1 0 0]\n",
      " [1 0 2 0 0 0 1 2]\n",
      " [1 0 3 0 1 0 2 0]\n",
      " [1 0 4 2 0 0 0 1]\n",
      " [1 0 5 1 0 2 0 0]\n",
      " [1 0 1 0 0 0 0 3]\n",
      " [1 0 2 0 0 3 0 0]\n",
      " [1 0 3 0 0 0 3 0]\n",
      " [1 0 4 3 0 0 0 0]\n",
      " [1 0 5 0 3 0 0 0]]\n"
     ]
    }
   ],
   "source": [
    "print(cards[:10])"
   ]
  },
  {
   "cell_type": "code",
   "execution_count": 41,
   "metadata": {},
   "outputs": [
    {
     "name": "stdout",
     "output_type": "stream",
     "text": [
      "[[4 0 4 0 0]\n",
      " [4 0 0 0 4]\n",
      " [0 0 0 4 4]\n",
      " [0 4 0 4 0]\n",
      " [0 4 4 0 0]\n",
      " [3 3 3 0 0]\n",
      " [3 0 3 0 3]\n",
      " [3 0 0 3 3]\n",
      " [0 3 0 3 3]\n",
      " [0 3 3 3 0]]\n"
     ]
    }
   ],
   "source": [
    "print(nobles)"
   ]
  },
  {
   "cell_type": "code",
   "execution_count": 42,
   "metadata": {},
   "outputs": [
    {
     "name": "stdout",
     "output_type": "stream",
     "text": [
      "<rules.Noble object at 0x0000022F8CF53C10>\n",
      "<rules.Card object at 0x0000022F8AE5E160>\n"
     ]
    }
   ],
   "source": [
    "board = Board()\n",
    "print(board.nobles[0])\n",
    "print(board.all_cards[1])"
   ]
  },
  {
   "cell_type": "code",
   "execution_count": null,
   "metadata": {},
   "outputs": [],
   "source": []
  },
  {
   "cell_type": "markdown",
   "metadata": {},
   "source": []
  }
 ],
 "metadata": {
  "kernelspec": {
   "display_name": "Python 3.9.7 ('CV')",
   "language": "python",
   "name": "python3"
  },
  "language_info": {
   "codemirror_mode": {
    "name": "ipython",
    "version": 3
   },
   "file_extension": ".py",
   "mimetype": "text/x-python",
   "name": "python",
   "nbconvert_exporter": "python",
   "pygments_lexer": "ipython3",
   "version": "3.9.7"
  },
  "orig_nbformat": 4,
  "vscode": {
   "interpreter": {
    "hash": "a74aa4d0a99eacba0689de25ffa0dd97bae15bd34a3b5b1a3e697267974fb3f3"
   }
  }
 },
 "nbformat": 4,
 "nbformat_minor": 2
}
